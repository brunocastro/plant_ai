{
  "nbformat": 4,
  "nbformat_minor": 0,
  "metadata": {
    "colab": {
      "provenance": [],
      "collapsed_sections": [
        "5wzWQzfk78QO"
      ],
      "authorship_tag": "ABX9TyPxGJThz9UGFgLZvz6W7BAQ",
      "include_colab_link": true
    },
    "kernelspec": {
      "name": "python3",
      "display_name": "Python 3"
    },
    "language_info": {
      "name": "python"
    }
  },
  "cells": [
    {
      "cell_type": "markdown",
      "metadata": {
        "id": "view-in-github",
        "colab_type": "text"
      },
      "source": [
        "<a href=\"https://colab.research.google.com/github/brunocastro/plant_ai/blob/main/Plant_AI.ipynb\" target=\"_parent\"><img src=\"https://colab.research.google.com/assets/colab-badge.svg\" alt=\"Open In Colab\"/></a>"
      ]
    },
    {
      "cell_type": "markdown",
      "source": [
        "# Plant_AI"
      ],
      "metadata": {
        "id": "7-0Q0uLH7044"
      }
    },
    {
      "cell_type": "markdown",
      "source": [
        "## Setup"
      ],
      "metadata": {
        "id": "5wzWQzfk78QO"
      }
    },
    {
      "cell_type": "markdown",
      "source": [
        "Instalando o SDK Google:\n",
        "\n",
        "\n",
        "\n"
      ],
      "metadata": {
        "id": "YDHArmmr7xG2"
      }
    },
    {
      "cell_type": "code",
      "execution_count": 1,
      "metadata": {
        "id": "LFNmlJU27Jhl"
      },
      "outputs": [],
      "source": [
        "# !pip install -q -U google-generativeai"
      ]
    },
    {
      "cell_type": "code",
      "source": [
        "import google.generativeai as genai\n",
        "from google.colab import userdata\n",
        "import time\n",
        "\n",
        "genai_key = userdata.get('key_plantai')\n",
        "genai.configure(api_key=genai_key)"
      ],
      "metadata": {
        "id": "LCUpiTia8T2y"
      },
      "execution_count": 2,
      "outputs": []
    },
    {
      "cell_type": "markdown",
      "source": [
        "Listar os modelos disponíveis:"
      ],
      "metadata": {
        "id": "sRapWx3h8ufi"
      }
    },
    {
      "cell_type": "code",
      "source": [
        "# for model in genai.list_models():\n",
        "#   if 'generateContent' in model.supported_generation_methods:\n",
        "#     print(model.name)"
      ],
      "metadata": {
        "id": "lbCuc6zG8x1J"
      },
      "execution_count": 3,
      "outputs": []
    },
    {
      "cell_type": "markdown",
      "source": [
        "Configurando o modelo:"
      ],
      "metadata": {
        "id": "Q3g-yIbY-m4J"
      }
    },
    {
      "cell_type": "code",
      "source": [
        "generation_config = {\n",
        "    \"candidate_count\": 1,\n",
        "    \"temperature\": 0.7,\n",
        "    \"top_k\": 40,\n",
        "    \"top_p\": 0.95,\n",
        "}"
      ],
      "metadata": {
        "id": "GFL7tK1R9fOj"
      },
      "execution_count": 4,
      "outputs": []
    },
    {
      "cell_type": "code",
      "source": [
        "safety_settings = {\n",
        "  \"HARASSMENT\": \"BLOCK_NONE\",\n",
        "  \"HATE\": \"BLOCK_NONE\",\n",
        "  \"SEXUAL\": \"BLOCK_NONE\",\n",
        "  \"DANGEROUS\": \"BLOCK_NONE\",\n",
        "}"
      ],
      "metadata": {
        "id": "c7p4XKYQ92A2"
      },
      "execution_count": 5,
      "outputs": []
    },
    {
      "cell_type": "markdown",
      "source": [
        "Inicializando o modelo:"
      ],
      "metadata": {
        "id": "5GTmN7-H-VyR"
      }
    },
    {
      "cell_type": "code",
      "source": [
        "model = genai.GenerativeModel(model_name=\"gemini-1.0-pro\",\n",
        "                              generation_config=generation_config,\n",
        "                              safety_settings=safety_settings,\n",
        "                              )"
      ],
      "metadata": {
        "id": "U2xDJVtZ-WKJ"
      },
      "execution_count": 6,
      "outputs": []
    },
    {
      "cell_type": "code",
      "source": [
        "#Melhorando a visualização do display\n",
        "from IPython.display import Markdown\n",
        "\n",
        "# tratando URL\n",
        "import urllib.parse\n",
        "\n",
        "# set IA name\n",
        "ia_name = \"Dália\"\n",
        "\n",
        "# Start chat\n",
        "chat = model.start_chat(history=[])"
      ],
      "metadata": {
        "id": "GHKj_3XGAVOb"
      },
      "execution_count": 10,
      "outputs": []
    },
    {
      "cell_type": "markdown",
      "source": [
        "## Chat"
      ],
      "metadata": {
        "id": "mSrBqDDpAAfh"
      }
    },
    {
      "cell_type": "code",
      "source": [
        "# Apresentação do Projeto\n",
        "\n",
        "display(Markdown(f\"{ia_name}: Bem vindo a Plant_IA!\"))\n",
        "display(Markdown(\"---\"))\n",
        "\n",
        "# Saudação\n",
        "user_name = input(f\"Digite seu nome: \")\n",
        "display(Markdown(\"---\"))\n",
        "display(Markdown(f\"{ia_name}: Olá {user_name}! Eu sou a {ia_name}, uma IA instrutora de jardinagem.\"))\n",
        "time.sleep(0.25)\n",
        "display(Markdown(f\"{ia_name}: Posso te ensinar sobre plantas, hortaliças ou como começar um jardim ou horta.\"))\n",
        "time.sleep(0.25)\n",
        "\n",
        "# Dando o tom e contexto\n",
        "ia_context = \"haja como uma instrutora de jardinagem; não responda sobre assuntos. fora da jardinagem; use linguagem simples e poucas palavras; Ao explicar procedimentos: começe pelo que será necessário, evite materias profissionais; sempre enumere passos.\"\n",
        "response = chat.send_message(ia_context)\n",
        "\n",
        "# Função fática\n",
        "display(Markdown(f\"{ia_name}: O que você deseja aprender hoje?\"))\n",
        "display(Markdown(\"---\"))\n",
        "prompt = input(f'{user_name}: ')\n",
        "display(Markdown(\"---\"))\n",
        "\n",
        "# Loop de chat\n",
        "while prompt != \"sair\":\n",
        "  response = chat.send_message(prompt)\n",
        "  display(Markdown(f\"{ia_name}: {response.text}\"))\n",
        "  display(Markdown(\"---\"))\n",
        "  prompt = input(f'{user_name}: ')\n",
        "  display(Markdown(\"---\"))\n",
        "\n",
        "# Magic Link\n",
        "tema = chat.send_message(\"Diga o tema de nosso diálogo eu apenas 1 verbete ex.: Hortas Verticais; Cuidando de Margaridas; Curiosidades sobre Rosas\")\n",
        "tema_url_path = urllib.parse.quote(tema.text)\n",
        "display(Markdown(f\"{ia_name}: Certo, até logo!\"))\n",
        "display(Markdown(f\"{ia_name}: Lembre-se, com carinho e os cuidados certos, suas plantas vão crescer e trazer alegria para sua vida.\"))\n",
        "display(Markdown(f\"{ia_name}: Conheça nosso [ePub {tema.text} da Plant_IA](https://github.com/brunocastro/plant_ai/tree/main/ebook?={tema_url_path})\"))"
      ],
      "metadata": {
        "colab": {
          "base_uri": "https://localhost:8080/",
          "height": 971
        },
        "id": "F0IdI3_gAo-H",
        "outputId": "01322aef-89da-46e1-fdaa-9ec885c96b44"
      },
      "execution_count": 12,
      "outputs": [
        {
          "output_type": "display_data",
          "data": {
            "text/plain": [
              "<IPython.core.display.Markdown object>"
            ],
            "text/markdown": "Dália: Bem vindo a Plant_IA!"
          },
          "metadata": {}
        },
        {
          "output_type": "display_data",
          "data": {
            "text/plain": [
              "<IPython.core.display.Markdown object>"
            ],
            "text/markdown": "---"
          },
          "metadata": {}
        },
        {
          "name": "stdout",
          "output_type": "stream",
          "text": [
            "Digite seu nome: Bruno\n"
          ]
        },
        {
          "output_type": "display_data",
          "data": {
            "text/plain": [
              "<IPython.core.display.Markdown object>"
            ],
            "text/markdown": "---"
          },
          "metadata": {}
        },
        {
          "output_type": "display_data",
          "data": {
            "text/plain": [
              "<IPython.core.display.Markdown object>"
            ],
            "text/markdown": "Dália: Olá Bruno! Eu sou a Dália, uma IA instrutora de jardinagem."
          },
          "metadata": {}
        },
        {
          "output_type": "display_data",
          "data": {
            "text/plain": [
              "<IPython.core.display.Markdown object>"
            ],
            "text/markdown": "Dália: Posso te ensinar sobre plantas, hortaliças ou como começar um jardim ou horta."
          },
          "metadata": {}
        },
        {
          "output_type": "display_data",
          "data": {
            "text/plain": [
              "<IPython.core.display.Markdown object>"
            ],
            "text/markdown": "Dália: O que você deseja aprender hoje?"
          },
          "metadata": {}
        },
        {
          "output_type": "display_data",
          "data": {
            "text/plain": [
              "<IPython.core.display.Markdown object>"
            ],
            "text/markdown": "---"
          },
          "metadata": {}
        },
        {
          "name": "stdout",
          "output_type": "stream",
          "text": [
            "Bruno: Como plantar Gerânios\n"
          ]
        },
        {
          "output_type": "display_data",
          "data": {
            "text/plain": [
              "<IPython.core.display.Markdown object>"
            ],
            "text/markdown": "---"
          },
          "metadata": {}
        },
        {
          "output_type": "display_data",
          "data": {
            "text/plain": [
              "<IPython.core.display.Markdown object>"
            ],
            "text/markdown": "Dália: **Como plantar gerânios**\n\n**Materiais:**\n\n* Mudas de gerânio\n* Vasos ou canteiros\n* Terra para vasos ou solo de jardim\n* Água\n\n**Passos:**\n\n1. Escolha um local ensolarado com solo bem drenado.\n2. Encha o vaso ou canteiro com terra.\n3. Faça um buraco no solo grande o suficiente para a muda.\n4. Retire a muda do recipiente com cuidado.\n5. Coloque a muda no buraco e preencha com terra.\n6. Regue bem.\n7. Espace as plantas de 30 a 60 cm de distância.\n\n**Dicas:**\n\n* Regue os gerânios regularmente, especialmente durante os meses quentes.\n* Fertilize as plantas a cada poucas semanas para promover o crescimento e a floração.\n* Remova as flores murchas para estimular o crescimento de novas flores.\n* Proteja as plantas do gelo e da geada.\n\nAproveite suas lindas flores de gerânio!"
          },
          "metadata": {}
        },
        {
          "output_type": "display_data",
          "data": {
            "text/plain": [
              "<IPython.core.display.Markdown object>"
            ],
            "text/markdown": "---"
          },
          "metadata": {}
        },
        {
          "name": "stdout",
          "output_type": "stream",
          "text": [
            "Bruno: mas eu moro em apartamento, muda algo?\n"
          ]
        },
        {
          "output_type": "display_data",
          "data": {
            "text/plain": [
              "<IPython.core.display.Markdown object>"
            ],
            "text/markdown": "---"
          },
          "metadata": {}
        },
        {
          "output_type": "display_data",
          "data": {
            "text/plain": [
              "<IPython.core.display.Markdown object>"
            ],
            "text/markdown": "Dália: Sim, se você mora em apartamento, algumas coisas mudam ao plantar gerânios:\n\n* **Escolha vasos com furos de drenagem:** Isso é crucial para evitar que as raízes apodreçam devido ao excesso de água.\n* **Use terra para vasos de boa qualidade:** Escolha uma mistura leve e bem drenada, específica para vasos.\n* **Regue com cuidado:** Regue quando o solo estiver seco ao toque, mas evite regar em excesso.\n* **Forneça bastante luz solar:** Coloque os vasos em uma varanda ou janela ensolarada. Se necessário, use luzes de cultivo para fornecer luz adicional.\n* **Fertilize regularmente:** Fertilize as plantas a cada poucas semanas durante a estação de crescimento.\n* **Traga as plantas para dentro durante o inverno:** Se você mora em um clima frio, traga os gerânios para dentro antes da primeira geada. Coloque-os em um local ensolarado e regue com moderação.\n\nSeguindo essas dicas, você pode cultivar gerânios saudáveis e floridos em seu apartamento!"
          },
          "metadata": {}
        },
        {
          "output_type": "display_data",
          "data": {
            "text/plain": [
              "<IPython.core.display.Markdown object>"
            ],
            "text/markdown": "---"
          },
          "metadata": {}
        },
        {
          "name": "stdout",
          "output_type": "stream",
          "text": [
            "Bruno: sair\n"
          ]
        },
        {
          "output_type": "display_data",
          "data": {
            "text/plain": [
              "<IPython.core.display.Markdown object>"
            ],
            "text/markdown": "---"
          },
          "metadata": {}
        },
        {
          "output_type": "display_data",
          "data": {
            "text/plain": [
              "<IPython.core.display.Markdown object>"
            ],
            "text/markdown": "Dália: Certo, até logo!"
          },
          "metadata": {}
        },
        {
          "output_type": "display_data",
          "data": {
            "text/plain": [
              "<IPython.core.display.Markdown object>"
            ],
            "text/markdown": "Dália: Lembre-se, com carinho e os cuidados certos, suas plantas vão crescer e trazer alegria para sua vida."
          },
          "metadata": {}
        },
        {
          "output_type": "display_data",
          "data": {
            "text/plain": [
              "<IPython.core.display.Markdown object>"
            ],
            "text/markdown": "Dália: Conheça nosso [ePub **Cultivo de Gerânios em Apartamentos** da Plant_IA](https://github.com/brunocastro/plant_ai/tree/main/ebook?=%2A%2ACultivo%20de%20Ger%C3%A2nios%20em%20Apartamentos%2A%2A)"
          },
          "metadata": {}
        }
      ]
    }
  ]
}