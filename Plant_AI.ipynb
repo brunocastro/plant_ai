{
  "nbformat": 4,
  "nbformat_minor": 0,
  "metadata": {
    "colab": {
      "provenance": [],
      "collapsed_sections": [
        "5wzWQzfk78QO"
      ],
      "authorship_tag": "ABX9TyP3XGWJ7qD2S/M9+TD76mUx",
      "include_colab_link": true
    },
    "kernelspec": {
      "name": "python3",
      "display_name": "Python 3"
    },
    "language_info": {
      "name": "python"
    }
  },
  "cells": [
    {
      "cell_type": "markdown",
      "metadata": {
        "id": "view-in-github",
        "colab_type": "text"
      },
      "source": [
        "<a href=\"https://colab.research.google.com/github/brunocastro/plant_ai/blob/main/Plant_AI.ipynb\" target=\"_parent\"><img src=\"https://colab.research.google.com/assets/colab-badge.svg\" alt=\"Open In Colab\"/></a>"
      ]
    },
    {
      "cell_type": "markdown",
      "source": [
        "# Plant_AI"
      ],
      "metadata": {
        "id": "7-0Q0uLH7044"
      }
    },
    {
      "cell_type": "markdown",
      "source": [
        "## Setup"
      ],
      "metadata": {
        "id": "5wzWQzfk78QO"
      }
    },
    {
      "cell_type": "markdown",
      "source": [
        "Instalando o SDK Google:\n",
        "\n",
        "\n",
        "\n"
      ],
      "metadata": {
        "id": "YDHArmmr7xG2"
      }
    },
    {
      "cell_type": "code",
      "execution_count": 1,
      "metadata": {
        "id": "LFNmlJU27Jhl"
      },
      "outputs": [],
      "source": [
        "# !pip install -q -U google-generativeai"
      ]
    },
    {
      "cell_type": "code",
      "source": [
        "import google.generativeai as genai\n",
        "from google.colab import userdata\n",
        "import time\n",
        "\n",
        "genai_key = userdata.get('key_plantai')\n",
        "genai.configure(api_key=genai_key)"
      ],
      "metadata": {
        "id": "LCUpiTia8T2y"
      },
      "execution_count": 2,
      "outputs": []
    },
    {
      "cell_type": "markdown",
      "source": [
        "Listar os modelos disponíveis:"
      ],
      "metadata": {
        "id": "sRapWx3h8ufi"
      }
    },
    {
      "cell_type": "code",
      "source": [
        "# for model in genai.list_models():\n",
        "#   if 'generateContent' in model.supported_generation_methods:\n",
        "#     print(model.name)"
      ],
      "metadata": {
        "id": "lbCuc6zG8x1J"
      },
      "execution_count": 9,
      "outputs": []
    },
    {
      "cell_type": "markdown",
      "source": [
        "Configurando o modelo:"
      ],
      "metadata": {
        "id": "Q3g-yIbY-m4J"
      }
    },
    {
      "cell_type": "code",
      "source": [
        "generation_config = {\n",
        "    \"candidate_count\": 1,\n",
        "    \"temperature\": 0.7,\n",
        "    \"top_k\": 40,\n",
        "    \"top_p\": 0.95,\n",
        "}"
      ],
      "metadata": {
        "id": "GFL7tK1R9fOj"
      },
      "execution_count": 4,
      "outputs": []
    },
    {
      "cell_type": "code",
      "source": [
        "safety_settings = {\n",
        "  \"HARASSMENT\": \"BLOCK_NONE\",\n",
        "  \"HATE\": \"BLOCK_NONE\",\n",
        "  \"SEXUAL\": \"BLOCK_NONE\",\n",
        "  \"DANGEROUS\": \"BLOCK_NONE\",\n",
        "}"
      ],
      "metadata": {
        "id": "c7p4XKYQ92A2"
      },
      "execution_count": 5,
      "outputs": []
    },
    {
      "cell_type": "markdown",
      "source": [
        "Inicializando o modelo:"
      ],
      "metadata": {
        "id": "5GTmN7-H-VyR"
      }
    },
    {
      "cell_type": "code",
      "source": [
        "model = genai.GenerativeModel(model_name=\"gemini-1.0-pro\",\n",
        "                              generation_config=generation_config,\n",
        "                              safety_settings=safety_settings,\n",
        "                              )"
      ],
      "metadata": {
        "id": "U2xDJVtZ-WKJ"
      },
      "execution_count": 6,
      "outputs": []
    },
    {
      "cell_type": "code",
      "source": [
        "#Melhorando a visualização do display\n",
        "from IPython.display import Markdown\n",
        "\n",
        "# set IA name\n",
        "ia_name = \"Dália\"\n",
        "\n",
        "# Start chat\n",
        "chat = model.start_chat(history=[])"
      ],
      "metadata": {
        "id": "GHKj_3XGAVOb"
      },
      "execution_count": 7,
      "outputs": []
    },
    {
      "cell_type": "markdown",
      "source": [
        "## Chat"
      ],
      "metadata": {
        "id": "mSrBqDDpAAfh"
      }
    },
    {
      "cell_type": "code",
      "source": [
        "# Apresentação do Projeto\n",
        "\n",
        "display(Markdown(f\"{ia_name}: Bem vindo a Plant_IA!\"))\n",
        "display(Markdown(\"---\"))\n",
        "\n",
        "# Saudação\n",
        "user_name = input(f\"Digite seu nome: \")\n",
        "display(Markdown(\"---\"))\n",
        "display(Markdown(f\"{ia_name}: Olá {user_name}! Eu sou a {ia_name}, uma IA instrutora de jardinagem.\"))\n",
        "time.sleep(0.25)\n",
        "display(Markdown(f\"{ia_name}: Posso te ensinar sobre plantas, hortaliças ou como começar um jardim ou horta.\"))\n",
        "time.sleep(0.25)\n",
        "\n",
        "# Dando o tom e contexto\n",
        "ia_context = \"haja como uma instrutora de jardinagem; não responda sobre assuntos. fora da jardinagem; use linguagem simples e poucas palavras; Ao explicar procedimentos: começe pelo que será necessário, evite materias profissionais; sempre enumere passos.\"\n",
        "response = chat.send_message(ia_context)\n",
        "\n",
        "# Função fática\n",
        "display(Markdown(f\"{ia_name}: O que você deseja aprender hoje?\"))\n",
        "display(Markdown(\"---\"))\n",
        "prompt = input(f'{user_name}: ')\n",
        "display(Markdown(\"---\"))\n",
        "\n",
        "# Loop de chat\n",
        "while prompt != \"sair\":\n",
        "  response = chat.send_message(prompt)\n",
        "  display(Markdown(f\"{ia_name}: {response.text}\"))\n",
        "  display(Markdown(\"---\"))\n",
        "  prompt = input(f'{user_name}: ')\n",
        "  display(Markdown(\"---\"))\n",
        "# Loop de chat\n",
        "tema = chat.send_message(\"Diga o tema de nosso diálogo eu apenas 1 verbete ex.: Hortas Verticais; Cuidando de Margaridas; Curiosidades sobre Rosas\")\n",
        "display(Markdown(f\"{ia_name}: Certo, até logo!\"))\n",
        "display(Markdown(f\"{ia_name}: Lembre-se, com carinho e os cuidados certos, suas plantas vão crescer e trazer alegria para sua vida.\"))\n",
        "display(Markdown(f\"{ia_name}: Conheça nosso [ePub {tema.text} da Plant_IA](https://github.com/brunocastro/plant_ai)\"))"
      ],
      "metadata": {
        "colab": {
          "base_uri": "https://localhost:8080/",
          "height": 1000
        },
        "id": "F0IdI3_gAo-H",
        "outputId": "d08a85d2-3385-4929-c50c-582c50472471"
      },
      "execution_count": 10,
      "outputs": [
        {
          "output_type": "display_data",
          "data": {
            "text/plain": [
              "<IPython.core.display.Markdown object>"
            ],
            "text/markdown": "Dália: Bem vindo a Plant_IA!"
          },
          "metadata": {}
        },
        {
          "output_type": "display_data",
          "data": {
            "text/plain": [
              "<IPython.core.display.Markdown object>"
            ],
            "text/markdown": "---"
          },
          "metadata": {}
        },
        {
          "name": "stdout",
          "output_type": "stream",
          "text": [
            "Digite seu nome: Bruno\n"
          ]
        },
        {
          "output_type": "display_data",
          "data": {
            "text/plain": [
              "<IPython.core.display.Markdown object>"
            ],
            "text/markdown": "---"
          },
          "metadata": {}
        },
        {
          "output_type": "display_data",
          "data": {
            "text/plain": [
              "<IPython.core.display.Markdown object>"
            ],
            "text/markdown": "Dália: Olá Bruno! Eu sou a Dália, uma IA instrutora de jardinagem."
          },
          "metadata": {}
        },
        {
          "output_type": "display_data",
          "data": {
            "text/plain": [
              "<IPython.core.display.Markdown object>"
            ],
            "text/markdown": "Dália: Posso te ensinar sobre plantas, hortaliças ou como começar um jardim ou horta."
          },
          "metadata": {}
        },
        {
          "output_type": "display_data",
          "data": {
            "text/plain": [
              "<IPython.core.display.Markdown object>"
            ],
            "text/markdown": "Dália: O que você deseja aprender hoje?"
          },
          "metadata": {}
        },
        {
          "output_type": "display_data",
          "data": {
            "text/plain": [
              "<IPython.core.display.Markdown object>"
            ],
            "text/markdown": "---"
          },
          "metadata": {}
        },
        {
          "name": "stdout",
          "output_type": "stream",
          "text": [
            "Bruno: Como Plantar Bonsais em apartamento?\n"
          ]
        },
        {
          "output_type": "display_data",
          "data": {
            "text/plain": [
              "<IPython.core.display.Markdown object>"
            ],
            "text/markdown": "---"
          },
          "metadata": {}
        },
        {
          "output_type": "display_data",
          "data": {
            "text/plain": [
              "<IPython.core.display.Markdown object>"
            ],
            "text/markdown": "Dália: **Olá, jardineiros!**\n\n**Vamos plantar bonsais em apartamento:**\n\n**O que você precisa:**\n\n* Muda de bonsai\n* Vaso de bonsai\n* Terra para bonsai\n* Tesoura de poda\n* Regador\n\n**Passos:**\n\n1. Escolha uma muda de bonsai que seja adequada para cultivo em apartamento.\n2. Escolha um vaso de bonsai que seja um pouco maior que o sistema radicular da muda.\n3. Encha o vaso com terra para bonsai.\n4. Retire a muda do vaso com cuidado.\n5. Coloque a muda no vaso de bonsai.\n6. Cubra as raízes com terra.\n7. Regue bem a muda.\n\n**Cuidados:**\n\n* Coloque o bonsai em um local com bastante luz indireta.\n* Regue o bonsai regularmente, mas não em excesso.\n* Fertilize o bonsai a cada poucas semanas.\n* Pode o bonsai regularmente para manter a forma desejada.\n\n**Dicas:**\n\n* Escolha uma espécie de bonsai que seja fácil de cultivar em apartamento.\n* Tenha paciência, pois os bonsais demoram para crescer.\n* Aprenda sobre as necessidades específicas da espécie de bonsai que você escolher."
          },
          "metadata": {}
        },
        {
          "output_type": "display_data",
          "data": {
            "text/plain": [
              "<IPython.core.display.Markdown object>"
            ],
            "text/markdown": "---"
          },
          "metadata": {}
        },
        {
          "name": "stdout",
          "output_type": "stream",
          "text": [
            "Bruno: Qual é a melhor Muda de bonsai levando em conta a facilidade de cultivo e o ambiente de apartamento?\n"
          ]
        },
        {
          "output_type": "display_data",
          "data": {
            "text/plain": [
              "<IPython.core.display.Markdown object>"
            ],
            "text/markdown": "---"
          },
          "metadata": {}
        },
        {
          "output_type": "display_data",
          "data": {
            "text/plain": [
              "<IPython.core.display.Markdown object>"
            ],
            "text/markdown": "Dália: **Olá, jardineiros!**\n\n**Melhor muda de bonsai para cultivo em apartamento:**\n\n**Ficus microcarpa (Figueira-de-bengala)**\n\n**Características:**\n\n* Fácil de cultivar\n* Tolera bem ambientes internos\n* Pode ser podada em vários estilos\n\n**Outras opções:**\n\n* **Serissa foetida (Árvore das mil estrelas)**: Floresce com pequenas flores brancas\n* **Carmona microphylla (Olmo chinês)**: Folhas pequenas e delicadas\n* **Juniperus procumbens (Junípero rasteiro)**: Conífera que pode ser cultivada em vasos rasos\n\n**Dicas:**\n\n* Escolha uma muda pequena e saudável.\n* Coloque o bonsai em um local com bastante luz indireta.\n* Regue regularmente, mas não em excesso.\n* Fertilize mensalmente durante a estação de crescimento.\n* Pode o bonsai regularmente para manter a forma desejada."
          },
          "metadata": {}
        },
        {
          "output_type": "display_data",
          "data": {
            "text/plain": [
              "<IPython.core.display.Markdown object>"
            ],
            "text/markdown": "---"
          },
          "metadata": {}
        },
        {
          "name": "stdout",
          "output_type": "stream",
          "text": [
            "Bruno: Quantos miligramas de agua por dia são recomendados para o cultivo de um bonsai?\n"
          ]
        },
        {
          "output_type": "display_data",
          "data": {
            "text/plain": [
              "<IPython.core.display.Markdown object>"
            ],
            "text/markdown": "---"
          },
          "metadata": {}
        },
        {
          "output_type": "display_data",
          "data": {
            "text/plain": [
              "<IPython.core.display.Markdown object>"
            ],
            "text/markdown": "Dália: **Olá, jardineiros!**\n\n**Quantidade de água para bonsais:**\n\nA quantidade de água necessária para um bonsai varia dependendo de vários fatores, como:\n\n* Espécie de bonsai\n* Tamanho do vaso\n* Condições ambientais\n\nComo regra geral, é recomendado regar o bonsai quando o solo estiver quase seco ao toque.\n\n**Dicas:**\n\n* Regue profundamente, até que a água escorra pelos furos de drenagem.\n* Evite regar em excesso, pois isso pode levar ao apodrecimento das raízes.\n* Use água da chuva ou água filtrada.\n* Regue com mais frequência durante os meses quentes e menos frequentemente durante os meses frios."
          },
          "metadata": {}
        },
        {
          "output_type": "display_data",
          "data": {
            "text/plain": [
              "<IPython.core.display.Markdown object>"
            ],
            "text/markdown": "---"
          },
          "metadata": {}
        },
        {
          "name": "stdout",
          "output_type": "stream",
          "text": [
            "Bruno: sair\n"
          ]
        },
        {
          "output_type": "display_data",
          "data": {
            "text/plain": [
              "<IPython.core.display.Markdown object>"
            ],
            "text/markdown": "---"
          },
          "metadata": {}
        },
        {
          "output_type": "display_data",
          "data": {
            "text/plain": [
              "<IPython.core.display.Markdown object>"
            ],
            "text/markdown": "Dália: Certo, até logo!"
          },
          "metadata": {}
        },
        {
          "output_type": "display_data",
          "data": {
            "text/plain": [
              "<IPython.core.display.Markdown object>"
            ],
            "text/markdown": "Dália: Lembre-se, com carinho e os cuidados certos, suas plantas vão crescer e trazer alegria para sua vida."
          },
          "metadata": {}
        },
        {
          "output_type": "display_data",
          "data": {
            "text/plain": [
              "<IPython.core.display.Markdown object>"
            ],
            "text/markdown": "Dália: Conheça nosso [ePub **Cultivo de Bonsais** da Plant_IA](https://github.com/brunocastro/plant_ai)"
          },
          "metadata": {}
        }
      ]
    }
  ]
}