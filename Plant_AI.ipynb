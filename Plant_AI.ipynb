{
  "nbformat": 4,
  "nbformat_minor": 0,
  "metadata": {
    "colab": {
      "provenance": [],
      "collapsed_sections": [
        "5wzWQzfk78QO"
      ],
      "authorship_tag": "ABX9TyPN0DnLVpwH9CF2anRAJ5Hu",
      "include_colab_link": true
    },
    "kernelspec": {
      "name": "python3",
      "display_name": "Python 3"
    },
    "language_info": {
      "name": "python"
    }
  },
  "cells": [
    {
      "cell_type": "markdown",
      "metadata": {
        "id": "view-in-github",
        "colab_type": "text"
      },
      "source": [
        "<a href=\"https://colab.research.google.com/github/brunocastro/plant_ai/blob/main/Plant_AI.ipynb\" target=\"_parent\"><img src=\"https://colab.research.google.com/assets/colab-badge.svg\" alt=\"Open In Colab\"/></a>"
      ]
    },
    {
      "cell_type": "markdown",
      "source": [
        "# Plant_AI"
      ],
      "metadata": {
        "id": "7-0Q0uLH7044"
      }
    },
    {
      "cell_type": "markdown",
      "source": [
        "## Setup"
      ],
      "metadata": {
        "id": "5wzWQzfk78QO"
      }
    },
    {
      "cell_type": "markdown",
      "source": [
        "Instalando o SDK Google:\n",
        "\n",
        "\n",
        "\n"
      ],
      "metadata": {
        "id": "YDHArmmr7xG2"
      }
    },
    {
      "cell_type": "code",
      "execution_count": 1,
      "metadata": {
        "id": "LFNmlJU27Jhl"
      },
      "outputs": [],
      "source": [
        "# !pip install -q -U google-generativeai"
      ]
    },
    {
      "cell_type": "code",
      "source": [
        "import google.generativeai as genai\n",
        "from google.colab import userdata\n",
        "import time\n",
        "\n",
        "genai_key = userdata.get('key_plantai')\n",
        "genai.configure(api_key=genai_key)"
      ],
      "metadata": {
        "id": "LCUpiTia8T2y"
      },
      "execution_count": 2,
      "outputs": []
    },
    {
      "cell_type": "markdown",
      "source": [
        "Listar os modelos disponíveis:"
      ],
      "metadata": {
        "id": "sRapWx3h8ufi"
      }
    },
    {
      "cell_type": "code",
      "source": [
        "\n",
        "for model in genai.list_models():\n",
        "  if 'generateContent' in model.supported_generation_methods:\n",
        "    print(model.name)\n"
      ],
      "metadata": {
        "colab": {
          "base_uri": "https://localhost:8080/",
          "height": 166
        },
        "id": "lbCuc6zG8x1J",
        "outputId": "1c32aec4-355f-40ac-9e44-59e9036112fe"
      },
      "execution_count": 3,
      "outputs": [
        {
          "output_type": "stream",
          "name": "stdout",
          "text": [
            "models/gemini-1.0-pro\n",
            "models/gemini-1.0-pro-001\n",
            "models/gemini-1.0-pro-latest\n",
            "models/gemini-1.0-pro-vision-latest\n",
            "models/gemini-1.5-pro-latest\n",
            "models/gemini-pro\n",
            "models/gemini-pro-vision\n"
          ]
        }
      ]
    },
    {
      "cell_type": "markdown",
      "source": [
        "Configurando o modelo:"
      ],
      "metadata": {
        "id": "Q3g-yIbY-m4J"
      }
    },
    {
      "cell_type": "code",
      "source": [
        "generation_config = {\n",
        "    \"candidate_count\": 1,\n",
        "    \"temperature\": 0.7,\n",
        "    \"top_k\": 40,\n",
        "    \"top_p\": 0.95,\n",
        "}"
      ],
      "metadata": {
        "id": "GFL7tK1R9fOj"
      },
      "execution_count": 4,
      "outputs": []
    },
    {
      "cell_type": "code",
      "source": [
        "safety_settings = {\n",
        "  \"HARASSMENT\": \"BLOCK_NONE\",\n",
        "  \"HATE\": \"BLOCK_NONE\",\n",
        "  \"SEXUAL\": \"BLOCK_NONE\",\n",
        "  \"DANGEROUS\": \"BLOCK_NONE\",\n",
        "}"
      ],
      "metadata": {
        "id": "c7p4XKYQ92A2"
      },
      "execution_count": 5,
      "outputs": []
    },
    {
      "cell_type": "markdown",
      "source": [
        "Inicializando o modelo:"
      ],
      "metadata": {
        "id": "5GTmN7-H-VyR"
      }
    },
    {
      "cell_type": "code",
      "source": [
        "model = genai.GenerativeModel(model_name=\"gemini-1.0-pro\",\n",
        "                              generation_config=generation_config,\n",
        "                              safety_settings=safety_settings,\n",
        "                              )"
      ],
      "metadata": {
        "id": "U2xDJVtZ-WKJ"
      },
      "execution_count": 6,
      "outputs": []
    },
    {
      "cell_type": "code",
      "source": [
        "#Melhorando a visualização do display\n",
        "from IPython.display import Markdown\n",
        "\n",
        "# set IA name\n",
        "ia_name = \"Dália\"\n",
        "\n",
        "# Start chat\n",
        "chat = model.start_chat(history=[])"
      ],
      "metadata": {
        "id": "GHKj_3XGAVOb"
      },
      "execution_count": 7,
      "outputs": []
    },
    {
      "cell_type": "markdown",
      "source": [
        "## Chat"
      ],
      "metadata": {
        "id": "mSrBqDDpAAfh"
      }
    },
    {
      "cell_type": "code",
      "source": [
        "# Apresentação do Projeto\n",
        "\n",
        "display(Markdown(f\"{ia_name}: Bem vindo a Plant_IA!\"))\n",
        "display(Markdown(\"---\"))\n",
        "\n",
        "# Saudação\n",
        "user_name = input(f\"Digite seu nome: \")\n",
        "display(Markdown(\"---\"))\n",
        "display(Markdown(f\"{ia_name}: Olá {user_name}! Eu sou a {ia_name}, uma IA instrutora de jardinagem.\"))\n",
        "time.sleep(0.25)\n",
        "display(Markdown(f\"{ia_name}: Posso te ensinar sobre plantas, hortaliças ou como começar um jardim ou horta.\"))\n",
        "time.sleep(0.25)\n",
        "\n",
        "# Dando o tom e contexto\n",
        "ia_context = \"haja como uma instrutora de jardinagem; não responda sobre assuntos. fora da jardinagem; use linguagem simples e poucas palavras; Ao explicar procedimentos: começe pelo que será necessário, evite materias profissionais; sempre enumere passos.\"\n",
        "response = chat.send_message(ia_context)\n",
        "\n",
        "# Função fática\n",
        "display(Markdown(f\"{ia_name}: O que você deseja aprender hoje?\"))\n",
        "display(Markdown(\"---\"))\n",
        "prompt = input(f'{user_name}: ')\n",
        "display(Markdown(\"---\"))\n",
        "\n",
        "# Loop de chat\n",
        "while prompt != \"sair\":\n",
        "  response = chat.send_message(prompt)\n",
        "  display(Markdown(f\"{ia_name}: {response.text}\"))\n",
        "  display(Markdown(\"---\"))\n",
        "  prompt = input(f'{user_name}: ')\n",
        "  display(Markdown(\"---\"))\n",
        "# Loop de chat\n",
        "tema = chat.send_message(\"Diga o tema de nosso diálogo eu apenas 1 verbete ex.: Hortas Verticais; Cuidando de Margaridas; Curiosidades sobre Rosas\")\n",
        "display(Markdown(f\"{ia_name}: Certo, até logo!\"))\n",
        "display(Markdown(f\"{ia_name}: Lembre-se, com carinho e os cuidados certos, suas plantas vão crescer e trazer alegria para sua vida.\"))\n",
        "display(Markdown(f\"{ia_name}: Conheça nosso [ePub {tema.text} da Plant_IA](https://github.com/brunocastro/plant_ai)\"))"
      ],
      "metadata": {
        "colab": {
          "base_uri": "https://localhost:8080/",
          "height": 905
        },
        "id": "F0IdI3_gAo-H",
        "outputId": "df25277e-11c8-41f3-cb2d-695d5207de95"
      },
      "execution_count": 12,
      "outputs": [
        {
          "output_type": "display_data",
          "data": {
            "text/plain": [
              "<IPython.core.display.Markdown object>"
            ],
            "text/markdown": "Dália: Bem vindo a Plant_IA!"
          },
          "metadata": {}
        },
        {
          "output_type": "display_data",
          "data": {
            "text/plain": [
              "<IPython.core.display.Markdown object>"
            ],
            "text/markdown": "---"
          },
          "metadata": {}
        },
        {
          "name": "stdout",
          "output_type": "stream",
          "text": [
            "Digite seu nome: Bruno\n"
          ]
        },
        {
          "output_type": "display_data",
          "data": {
            "text/plain": [
              "<IPython.core.display.Markdown object>"
            ],
            "text/markdown": "---"
          },
          "metadata": {}
        },
        {
          "output_type": "display_data",
          "data": {
            "text/plain": [
              "<IPython.core.display.Markdown object>"
            ],
            "text/markdown": "Dália: Olá Bruno! Eu sou a Dália, uma IA instrutora de jardinagem."
          },
          "metadata": {}
        },
        {
          "output_type": "display_data",
          "data": {
            "text/plain": [
              "<IPython.core.display.Markdown object>"
            ],
            "text/markdown": "Dália: Posso te ensinar sobre plantas, hortaliças ou como começar um jardim ou horta."
          },
          "metadata": {}
        },
        {
          "output_type": "display_data",
          "data": {
            "text/plain": [
              "<IPython.core.display.Markdown object>"
            ],
            "text/markdown": "Dália: O que você deseja aprender hoje?"
          },
          "metadata": {}
        },
        {
          "output_type": "display_data",
          "data": {
            "text/plain": [
              "<IPython.core.display.Markdown object>"
            ],
            "text/markdown": "---"
          },
          "metadata": {}
        },
        {
          "name": "stdout",
          "output_type": "stream",
          "text": [
            "Bruno: Como plantar bananeira?\n"
          ]
        },
        {
          "output_type": "display_data",
          "data": {
            "text/plain": [
              "<IPython.core.display.Markdown object>"
            ],
            "text/markdown": "---"
          },
          "metadata": {}
        },
        {
          "output_type": "display_data",
          "data": {
            "text/plain": [
              "<IPython.core.display.Markdown object>"
            ],
            "text/markdown": "Dália: **Como plantar bananeira:**\n\n**Materiais:**\n\n* Muda de bananeira\n* Solo fértil\n* Compost ou esterco\n* Pá\n\n**Passos:**\n\n1. **Escolha um local:** Escolha um local ensolarado com solo bem drenado.\n2. **Prepare o solo:** Cave um buraco duas vezes maior que o torrão da muda. Misture o solo com bastante composto ou esterco.\n3. **Plante a muda:** Retire a muda do recipiente e coloque-a no buraco. Preencha o buraco com o solo preparado e aperte suavemente ao redor da muda.\n4. **Regue bem:** Regue a muda profundamente após o plantio.\n5. **Faça a cobertura morta:** Espalhe uma camada de cobertura morta ao redor da muda para reter a umidade e suprimir ervas daninhas.\n\n**Dicas:**\n\n* Plante a muda na mesma profundidade em que estava no recipiente.\n* Regue a bananeira regularmente, especialmente durante os períodos de seca.\n* Fertilize a bananeira a cada poucos meses com um fertilizante balanceado.\n* Proteja a bananeira do vento forte, amarrando-a a uma estaca."
          },
          "metadata": {}
        },
        {
          "output_type": "display_data",
          "data": {
            "text/plain": [
              "<IPython.core.display.Markdown object>"
            ],
            "text/markdown": "---"
          },
          "metadata": {}
        },
        {
          "name": "stdout",
          "output_type": "stream",
          "text": [
            "Bruno: Como ter as melhores bananas?\n"
          ]
        },
        {
          "output_type": "display_data",
          "data": {
            "text/plain": [
              "<IPython.core.display.Markdown object>"
            ],
            "text/markdown": "---"
          },
          "metadata": {}
        },
        {
          "output_type": "display_data",
          "data": {
            "text/plain": [
              "<IPython.core.display.Markdown object>"
            ],
            "text/markdown": "Dália: **Como ter as melhores bananas:**\n\n**Dicas:**\n\n* **Escolha as bananas certas:** Escolha bananas que sejam amarelas brilhantes e sem manchas marrons.\n* **Guarde as bananas em temperatura ambiente:** As bananas amadurecem melhor em temperatura ambiente.\n* **Evite refrigerar as bananas:** Refrigerar as bananas pode retardar o amadurecimento e prejudicar o sabor.\n* **Pendure as bananas:** Pendurar as bananas em um cacho ajuda a distribuir o peso e evita que elas fiquem machucadas.\n* **Use bananas maduras:** Bananas maduras são mais doces e nutritivas.\n* **Congele bananas maduras:** Congele bananas maduras para usar em smoothies, sobremesas ou assados."
          },
          "metadata": {}
        },
        {
          "output_type": "display_data",
          "data": {
            "text/plain": [
              "<IPython.core.display.Markdown object>"
            ],
            "text/markdown": "---"
          },
          "metadata": {}
        },
        {
          "name": "stdout",
          "output_type": "stream",
          "text": [
            "Bruno: sair\n"
          ]
        },
        {
          "output_type": "display_data",
          "data": {
            "text/plain": [
              "<IPython.core.display.Markdown object>"
            ],
            "text/markdown": "---"
          },
          "metadata": {}
        },
        {
          "output_type": "display_data",
          "data": {
            "text/plain": [
              "<IPython.core.display.Markdown object>"
            ],
            "text/markdown": "Dália: Certo, até logo!"
          },
          "metadata": {}
        },
        {
          "output_type": "display_data",
          "data": {
            "text/plain": [
              "<IPython.core.display.Markdown object>"
            ],
            "text/markdown": "Dália: Lembre-se, com carinho e os cuidados certos, suas plantas vão crescer e trazer alegria para sua vida."
          },
          "metadata": {}
        },
        {
          "output_type": "display_data",
          "data": {
            "text/plain": [
              "<IPython.core.display.Markdown object>"
            ],
            "text/markdown": "Dália: Conheça nosso [ePub **Cultivo de Bananeiras** da Plant_IA](https://github.com/brunocastro/plant_ai)"
          },
          "metadata": {}
        },
        {
          "output_type": "display_data",
          "data": {
            "text/plain": [
              "<IPython.core.display.Markdown object>"
            ],
            "text/markdown": "---"
          },
          "metadata": {}
        }
      ]
    }
  ]
}